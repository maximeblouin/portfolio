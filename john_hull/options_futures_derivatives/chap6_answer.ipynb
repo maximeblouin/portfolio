{
 "cells": [
  {
   "cell_type": "markdown",
   "metadata": {},
   "source": [
    "# Chapter 6 - Interest Rate Futures"
   ]
  },
  {
   "attachments": {},
   "cell_type": "markdown",
   "metadata": {},
   "source": [
    "## Packages"
   ]
  },
  {
   "cell_type": "code",
   "execution_count": 1,
   "metadata": {},
   "outputs": [],
   "source": [
    "import datetime as dt\n",
    "import math\n",
    "import pandas as pd\n",
    "import numpy as np\n",
    "import numpy_financial as npf\n",
    "import QuantLib as ql\n",
    "\n",
    "import os\n",
    "import sys\n",
    "module_path = os.path.abspath(os.path.join('..\\\\..'))\n",
    "if module_path not in sys.path:\n",
    "    sys.path.append(module_path)\n",
    "\n",
    "import package.helpers as helpers\n"
   ]
  },
  {
   "cell_type": "markdown",
   "metadata": {},
   "source": [
    "## Practice Questions"
   ]
  },
  {
   "attachments": {},
   "cell_type": "markdown",
   "metadata": {},
   "source": [
    "`6.1`\n",
    "\n",
    "A U.S. Treasury bond pays a 7% coupon on January 7 and July 7. How much interest accrues per `$`100 of principal to the bondholder between July 7, 2017, and August 8, 2017? How would your answer be different if it were a corporate bond?"
   ]
  },
  {
   "cell_type": "code",
   "execution_count": 2,
   "metadata": {},
   "outputs": [
    {
     "name": "stdout",
     "output_type": "stream",
     "text": [
      "U.S. Treasury bond\n",
      "Coupon rate: 3.5\n",
      "Calendar days between 2017-07-07 and 2017-08-08: 32 days\n",
      "Calendar days between 2017-07-07 and 2018-01-07: 184 days\n",
      "Accrued interest: 0.6087\n",
      "\u001b[92mAssert okay\u001b[0m\n",
      "Corporate bond\n",
      "30/360 day count convention\n",
      "Calendar days between 2017-07-07 and 2017-08-08: 31 days\n",
      "Calendar days between 2017-07-07 and 2018-01-07: 180 days\n",
      "Accrued interest: 0.6028\n",
      "\u001b[92mAssert okay\u001b[0m\n"
     ]
    }
   ],
   "source": [
    "print(\"U.S. Treasury bond\")\n",
    "\n",
    "date1 = dt.date(2017, 7, 7)\n",
    "date2 = dt.date(2017, 8, 8)\n",
    "date3 = dt.date(2018, 1, 7)\n",
    "\n",
    "rate = 0.07 / 2\n",
    "coupon_rate = rate * 100\n",
    "print(f\"Coupon rate: {round(coupon_rate, 4)}\")\n",
    "\n",
    "num_of_days_between_dates=(date2-date1).days\n",
    "print(f\"Calendar days between {date1} and {date2}: {num_of_days_between_dates} days\")\n",
    "\n",
    "num_of_days_ref_period=(date3-date1).days\n",
    "print(f\"Calendar days between {date1} and {date3}: {num_of_days_ref_period} days\")\n",
    "\n",
    "accrued_interest = coupon_rate * num_of_days_between_dates / num_of_days_ref_period \n",
    "print(f\"Accrued interest: {round(accrued_interest, 4)}\")\n",
    "\n",
    "helpers.assert_equals(round(accrued_interest, 4), 0.6087)\n",
    "\n",
    "print(\"Corporate bond\")\n",
    "print(\"30/360 day count convention\")\n",
    "\n",
    "num_of_days_between_dates = 31\n",
    "print(f\"Calendar days between {date1} and {date2}: {num_of_days_between_dates} days\")\n",
    "\n",
    "num_of_days_ref_period=180\n",
    "print(f\"Calendar days between {date1} and {date3}: {num_of_days_ref_period} days\")\n",
    "\n",
    "accrued_interest = coupon_rate * num_of_days_between_dates / num_of_days_ref_period \n",
    "print(f\"Accrued interest: {round(accrued_interest, 4)}\")\n",
    "\n",
    "helpers.assert_equals(round(accrued_interest, 4), 0.6028)\n"
   ]
  },
  {
   "cell_type": "markdown",
   "metadata": {},
   "source": [
    "`6.2`\n",
    "\n",
    "It is January 9, 2018. The price of a Treasury bond with a 6% coupon that matures on October 12, 2030, is quoted as 102-07.\n",
    "\n",
    "What is the cash price?"
   ]
  },
  {
   "cell_type": "code",
   "execution_count": 3,
   "metadata": {},
   "outputs": [
    {
     "name": "stdout",
     "output_type": "stream",
     "text": [
      "Number of days between 2017-10-12 and 2018-01-09: 89 days\n",
      "Number of days between 2017-10-12 and 2018-04-12: 182 days\n",
      "Coupon Rate: 3.0%\n",
      "Quoted Price: $102.22\n",
      "Accrued interest: 1.467\n",
      "Cash Price: $103.69\n",
      "\u001b[92mAssert okay\u001b[0m\n"
     ]
    }
   ],
   "source": [
    "date1=dt.date(2017, 10, 12)\n",
    "current_date=dt.date(2018, 1, 9)\n",
    "date3=dt.date(2018, 4, 12)\n",
    "\n",
    "num_of_days_between_dates = (current_date - date1).days\n",
    "print(f\"Number of days between {date1} and {current_date}: {num_of_days_between_dates} days\")\n",
    "\n",
    "num_of_days_ref_period = (date3 - date1).days\n",
    "print(f\"Number of days between {date1} and {date3}: {num_of_days_ref_period} days\")\n",
    "\n",
    "coupon_rate = 0.06/2\n",
    "print(f\"Coupon Rate: {coupon_rate * 100}%\")\n",
    "\n",
    "quoted_price=102+7/32\n",
    "print(f\"Quoted Price: ${round(quoted_price, 2)}\")\n",
    "\n",
    "accrued_interest = num_of_days_between_dates / num_of_days_ref_period * coupon_rate * 100\n",
    "print(f\"Accrued interest: {round(accrued_interest, 4)}\")\n",
    "\n",
    "cash_price = quoted_price + accrued_interest\n",
    "print(f\"Cash Price: ${round(cash_price,2)}\")\n",
    "\n",
    "helpers.assert_equals(round(cash_price,2), 103.69)"
   ]
  },
  {
   "attachments": {},
   "cell_type": "markdown",
   "metadata": {},
   "source": [
    "`6.3`\n",
    "\n",
    "A three-month SOFR futures price changes from 96.76 to 96.82. What is the gain or loss to a trader who is long two contracts?"
   ]
  },
  {
   "cell_type": "code",
   "execution_count": 4,
   "metadata": {},
   "outputs": [
    {
     "name": "stdout",
     "output_type": "stream",
     "text": [
      "Number of contracts: 2\n",
      "Price changes: 0.06\n",
      "Gain per contract: 150.0\n",
      "Total gain or loss: 300.0\n",
      "\u001b[92mAssert okay\u001b[0m\n"
     ]
    }
   ],
   "source": [
    "nb_contracts = 2\n",
    "print(f\"Number of contracts: {nb_contracts}\")\n",
    "\n",
    "price_change = round(96.82 - 96.76, 2)\n",
    "print(f\"Price changes: {price_change}\")\n",
    "\n",
    "gain_per_contract = 100 * 25 * price_change\n",
    "print(f\"Gain per contract: {gain_per_contract}\")\n",
    "\n",
    "total_gain = nb_contracts * gain_per_contract\n",
    "print(f\"Total gain or loss: {total_gain}\")\n",
    "\n",
    "helpers.assert_equals(total_gain, 300.0)"
   ]
  },
  {
   "attachments": {},
   "cell_type": "markdown",
   "metadata": {},
   "source": [
    "`6.4`\n",
    "\n",
    "The 350-day LIBOR rate is 3% with continuous compounding and the forward rate calculated from a Eurodollar futures contract that matures in 350 days is 3.2% with continuous compounding. Estimate the 440-day zero rate."
   ]
  },
  {
   "cell_type": "code",
   "execution_count": 5,
   "metadata": {},
   "outputs": [
    {
     "name": "stdout",
     "output_type": "stream",
     "text": [
      "350-day LIBOR rate: 3.0 %\n",
      "Eurodollar futures forward rate: 3.2 %\n",
      "Eurodollar futures forward maturity: 350 days\n",
      "Estimated 440-day zero rate: 3.0409 %\n",
      "\u001b[92mAssert okay\u001b[0m\n"
     ]
    }
   ],
   "source": [
    "LIBOR_rate = 0.03\n",
    "print(f\"350-day LIBOR rate: {LIBOR_rate * 100} %\")\n",
    "\n",
    "forward_rate = 0.032\n",
    "print(f\"Eurodollar futures forward rate: {forward_rate * 100} %\")\n",
    "\n",
    "forward_maturity = 350\n",
    "print(f\"Eurodollar futures forward maturity: {forward_maturity} days\")\n",
    "\n",
    "zero_period = 440\n",
    "zero_rate = (forward_rate * 90 + LIBOR_rate * forward_maturity) / zero_period\n",
    "print(f\"Estimated 440-day zero rate: {round(zero_rate * 100, 4)} %\")\n",
    "\n",
    "helpers.assert_equals(round(zero_rate * 100, 4), 3.0409)"
   ]
  },
  {
   "attachments": {},
   "cell_type": "markdown",
   "metadata": {},
   "source": [
    "`6.5`\n",
    "\n",
    "It is January 30. You are managing a bond portfolio worth `$`6 million. The duration of the portfolio in 6 months will be 8.2 years. The September Treasury bond futures price is currently 108-15, and the cheapest-to-deliver bond will have a duration of 7.6 years in September. How should you hedge against changes in interest rates over the next 6 months?"
   ]
  },
  {
   "cell_type": "code",
   "execution_count": 6,
   "metadata": {},
   "outputs": [
    {
     "name": "stdout",
     "output_type": "stream",
     "text": [
      "September Treasury bond futures price: 108.46875\n",
      "Portfolio worth: $6000000\n",
      "Portfolio duration: 8.2\n",
      "Cheapest-to-deliver bond duration: 7.6\n",
      "Value of a contract: $108468.75\n",
      "Hedge against changes in interest rates: shorted\n",
      "Number of contracts that should shorted: 60 contracts\n",
      "\n",
      "The position should be closed out at the end of July.\n",
      "\u001b[92mAssert okay\u001b[0m\n"
     ]
    }
   ],
   "source": [
    "quoted_price = 108 + 15/32\n",
    "print(f\"September Treasury bond futures price: {quoted_price}\")\n",
    "\n",
    "portfolio_worth = 6000000\n",
    "print(f\"Portfolio worth: ${portfolio_worth}\")\n",
    "\n",
    "portfolio_duration = 8.2\n",
    "print(f\"Portfolio duration: {portfolio_duration}\")\n",
    "\n",
    "bond_duration = 7.6\n",
    "print(f\"Cheapest-to-deliver bond duration: {bond_duration}\")\n",
    "\n",
    "contract_value = quoted_price * 1000\n",
    "print(f\"Value of a contract: ${contract_value}\")\n",
    "\n",
    "position = \"shorted\"\n",
    "print(f\"Hedge against changes in interest rates: {position}\")\n",
    "\n",
    "nb_contract = portfolio_worth / contract_value * portfolio_duration / bond_duration\n",
    "print(f\"Number of contracts that should {position}: {round(nb_contract)} contracts\")\n",
    "print(\"\\nThe position should be closed out at the end of July.\")\n",
    "\n",
    "helpers.assert_equals(round(nb_contract), 60)"
   ]
  },
  {
   "attachments": {},
   "cell_type": "markdown",
   "metadata": {},
   "source": [
    "`6.6`\n",
    "\n",
    "The price of a 90-day Treasury bill is quoted as 10.00. What continuously compounded return (on an actual/365 basis) does an investor earn on the Treasury bill for the 90-day period?"
   ]
  },
  {
   "cell_type": "code",
   "execution_count": 7,
   "metadata": {},
   "outputs": [
    {
     "name": "stdout",
     "output_type": "stream",
     "text": [
      "90-day Treasury bill\n",
      "Quoted price 10.0\n",
      "Cash price: $97.5\n",
      "Annualized continuously compounded return: 10.27%\n",
      "\u001b[92mAssert okay\u001b[0m\n"
     ]
    }
   ],
   "source": [
    "duration=90\n",
    "print(f\"{duration}-day Treasury bill\")\n",
    "\n",
    "quoted_price = 10.00\n",
    "print(f\"Quoted price {quoted_price}\")\n",
    "\n",
    "cash_price = 100 - (duration / 360) * quoted_price\n",
    "print(f\"Cash price: ${round(cash_price, 2)}\")\n",
    "\n",
    "cont_return = 365 / duration * math.log(1 + 2.5 / cash_price)\n",
    "print(f\"Annualized continuously compounded return: {round(cont_return * 100, 2)}%\")\n",
    "\n",
    "helpers.assert_equals(round(cont_return, 4), 0.1027)"
   ]
  },
  {
   "attachments": {},
   "cell_type": "markdown",
   "metadata": {},
   "source": [
    "`6.7`\n",
    "\n",
    "It is May 5, 2021. The quoted price of a government bond with a 12% coupon that matures on July 27, 2034, is 110-17. What is the cash price?"
   ]
  },
  {
   "cell_type": "code",
   "execution_count": 8,
   "metadata": {},
   "outputs": [
    {
     "name": "stdout",
     "output_type": "stream",
     "text": [
      "Current Date: 2021-05-05\n",
      "Government bond\n",
      "Quoted price: 110.5312\n",
      "Maturity date: 2034-07-27\n",
      "Coupon: 12 %\n",
      "Date Bgn: 2021-01-27\n",
      "Number of days between 2021-01-27 and 2021-05-05: 98 days\n",
      "Date End: 2021-07-27\n",
      "Number of days between 2021-01-27 and 2021-07-27: 181 days\n",
      "Accrued interest: 3.2486\n",
      "Cash price: $113.7799\n",
      "\u001b[92mAssert okay\u001b[0m\n"
     ]
    }
   ],
   "source": [
    "\n",
    "current_date = dt.date(2021, 5, 5)\n",
    "print(f\"Current Date: {current_date}\")\n",
    "\n",
    "print(\"Government bond\")\n",
    "\n",
    "quoted_price = 110+17/32\n",
    "print(f\"Quoted price: {round(quoted_price, 4)}\")\n",
    "\n",
    "maturity_date = dt.date(2034, 7, 27)\n",
    "print(f\"Maturity date: {maturity_date}\")\n",
    "\n",
    "coupon = 12\n",
    "print(f\"Coupon: {coupon} %\")\n",
    "\n",
    "date_bgn = dt.date(2021, 1, 27)\n",
    "print(f\"Date Bgn: {date_bgn}\")\n",
    "\n",
    "period1 = (current_date - date_bgn).days\n",
    "print(f\"Number of days between {date_bgn} and {current_date}: {period1} days\")\n",
    "\n",
    "date_end = dt.date(2021, maturity_date.month, maturity_date.day)\n",
    "print(f\"Date End: {date_end}\")\n",
    "\n",
    "period2 = (date_end - date_bgn).days\n",
    "print(f\"Number of days between {date_bgn} and {date_end}: {period2} days\")\n",
    "\n",
    "accrued_interest = (coupon / 2) * period1 / period2\n",
    "print(f\"Accrued interest: {round(accrued_interest, 4)}\")\n",
    "\n",
    "cash_price = quoted_price + accrued_interest\n",
    "print(f\"Cash price: ${round(cash_price, 4)}\")\n",
    "\n",
    "helpers.assert_equals(round(cash_price, 4), 113.7799)"
   ]
  },
  {
   "attachments": {},
   "cell_type": "markdown",
   "metadata": {},
   "source": [
    "`6.8`\n",
    "\n",
    "Suppose that the Treasury bond futures price is 101-12. Which of the following four bonds is cheapest to deliver?\n",
    "\n",
    "Bond | Price  | Conversion factor\n",
    "---- | ------ | -----------------\n",
    "1    | 125-05 | 1.2131\n",
    "2    | 142-15 | 1.3792\n",
    "3    | 115-31 | 1.1149\n",
    "4    | 144-02 | 1.4026"
   ]
  },
  {
   "cell_type": "code",
   "execution_count": 9,
   "metadata": {},
   "outputs": [
    {
     "name": "stdout",
     "output_type": "stream",
     "text": [
      "Treasury bond futures\n",
      "Price: 101.375 \n",
      "\n",
      "Cheapest-to-deliver bond #: 4\n",
      "\u001b[92mAssert okay\u001b[0m\n"
     ]
    }
   ],
   "source": [
    "print(\"Treasury bond futures\")\n",
    "\n",
    "futures_price = 101+12/32\n",
    "print(f\"Price: {futures_price} \\n\")\n",
    "\n",
    "bonds = {'bond':[1, 2, 3, 4],\n",
    "         'price':[125+5/32, 142+15/32, 115+31/32, 144+2/32],\n",
    "         'conversion_factor':[1.2131, 1.3792, 1.1149, 1.4026]}\n",
    "\n",
    "bonds = pd.DataFrame(bonds)\n",
    "\n",
    "# The cheapest-to-deliver bond is the one having the lowest factor: Quoted Price - Futures Price * Conversion Factor\n",
    "bonds = bonds.assign(factor=bonds['price'] - futures_price * bonds['conversion_factor'])\n",
    "\n",
    "cheapest_bond = bonds['bond'][bonds['factor'].idxmin()]\n",
    "\n",
    "print(f\"Cheapest-to-deliver bond #: {cheapest_bond}\")\n",
    "\n",
    "helpers.assert_equals(cheapest_bond, 4)"
   ]
  },
  {
   "attachments": {},
   "cell_type": "markdown",
   "metadata": {},
   "source": [
    "`6.9`\n",
    "\n",
    "It is July 30, 2021. The cheapest-to-deliver bond in a September 2021 Treasury bond futures contract is a 13% coupon bond, and delivery is expected to be made on September 30, 2021. \n",
    "Coupon payments on the bond are made on February 4 and August 4 each year. The term structure is flat, and the rate of interest with semiannual compounding is 12% per annum. The conversion factor for the bond is 1.5. The current quoted bond price is \\$110. Calculate the quoted futures price for the contract."
   ]
  },
  {
   "cell_type": "code",
   "execution_count": 90,
   "metadata": {},
   "outputs": [
    {
     "name": "stdout",
     "output_type": "stream",
     "text": [
      "Number of days between 2021-02-04 and 2021-07-30 = 176 days\n",
      "Number of days between 2021-02-04 and 2021-08-04 = 181 days\n",
      "Accrued interest = 6.3204\n",
      "Cash price = $116.3204\n",
      "\u001b[92mAssert okay\u001b[0m\n",
      "Interest rate = 0.1165\n",
      "t = 0.0137\n",
      "Present value = $6.4896\n",
      "\u001b[92mAssert okay\u001b[0m\n",
      "Futures contract lasts for 0.16986301369863013 years\n",
      "Cash futures price for a contract written on the 13.0% bond = 112.03\n",
      "\u001b[92mAssert okay\u001b[0m\n",
      "Nb of Days of accrued interest = 57 days\n",
      "Cash futures price for a contract written on the 13.0% bond = 73.34\n",
      "\u001b[92mAssert okay\u001b[0m\n"
     ]
    }
   ],
   "source": [
    "date_1 = dt.date(2021, 2, 4)\n",
    "date_2 = dt.date(2021, 8, 4)\n",
    "current_date = dt.date(2021, 7, 30)\n",
    "delivery_date = dt.date(2021, 9, 30)\n",
    "\n",
    "quoted_price = 110\n",
    "coupon = 0.13\n",
    "\n",
    "period1 = (current_date - date_1).days\n",
    "print(f\"Number of days between {date_1} and {current_date} = {period1} days\")\n",
    "\n",
    "period2 = (date_2 - date_1).days\n",
    "print(f\"Number of days between {date_1} and {date_2} = {period2} days\")\n",
    "\n",
    "accrued_interest = (100 * coupon / 2) * period1 / period2\n",
    "print(f\"Accrued interest = {round(accrued_interest, 4)}\")\n",
    "\n",
    "cash_price = quoted_price + accrued_interest\n",
    "print(f\"Cash price = ${round(cash_price, 4)}\")\n",
    "\n",
    "helpers.assert_equals(round(cash_price, 2), 116.32)\n",
    "\n",
    "interest_rate = 2 * math.log(1.06)\n",
    "print(f\"Interest rate = {round(interest_rate, 4)}\")\n",
    "\n",
    "t = 5/365\n",
    "print(f\"t = {round(t, 4)}\")\n",
    "\n",
    "pv = (100 * coupon / 2) * math.exp(-t * interest_rate)\n",
    "print(f\"Present value = ${round(pv, 4)}\")\n",
    "\n",
    "helpers.assert_equals(round(pv, 4), 6.4896)\n",
    "\n",
    "future_duration = (delivery_date - current_date).days / 365\n",
    "print(f\"Futures contract lasts for {future_duration} years\")\n",
    "\n",
    "\n",
    "cash_future_price = (cash_price - pv) * math.exp(future_duration * interest_rate)\n",
    "print(f\"Cash futures price for a contract written on the {100 * coupon}% bond = {round(cash_future_price, 2)}\")\n",
    "\n",
    "helpers.assert_equals(round(cash_future_price, 2), 112.03)\n",
    "\n",
    "n = (delivery_date - date_2).days\n",
    "print(f\"Nb of Days of accrued interest = {n} days\")\n",
    "\n",
    "n2 = 184\n",
    "\n",
    "conversion_factor = 1.5\n",
    "\n",
    "quoted_future_price = (cash_future_price - (100 * coupon / 2) * n / n2) / conversion_factor\n",
    "print(f\"Quoted futures price for a contract written on the {100 * coupon}% bond = {round(quoted_future_price, 2)}\")\n",
    "\n",
    "helpers.assert_equals(round(quoted_future_price, 2), 73.34)\n",
    "\n"
   ]
  },
  {
   "attachments": {},
   "cell_type": "markdown",
   "metadata": {},
   "source": [
    "`6.10`\n",
    "\n",
    "A trader is looking for arbitrage opportunities in the Treasury bond futures market. What complications are created by the fact that the party with a short position can choose to deliver any bond with a maturity between 15 and 25 years?"
   ]
  },
  {
   "cell_type": "code",
   "execution_count": null,
   "metadata": {},
   "outputs": [],
   "source": []
  },
  {
   "attachments": {},
   "cell_type": "markdown",
   "metadata": {},
   "source": [
    "`6.11`\n",
    "\n",
    "Suppose that the 9-month SOFR interest rate is 8% per annum and the 6-month SOFR interest rate is 7.5% per annum (both with actual/365 and continuous compounding). \n",
    "\n",
    "Estimate the 3-month SOFR futures price quote for a contract maturing in 6 months."
   ]
  },
  {
   "cell_type": "code",
   "execution_count": null,
   "metadata": {},
   "outputs": [],
   "source": []
  },
  {
   "attachments": {},
   "cell_type": "markdown",
   "metadata": {},
   "source": [
    "`6.12`\n",
    "\n",
    "Suppose that the 300-day LIBOR zero rate is 4% and Eurodollar quotes for contracts maturing in 300, 398, and 489 days are 95.83, 95.62, and 95.48. Calculate 398-day and 489-day LIBOR zero rates. Assume no difference between forward and futures rates for the purposes of your calculations."
   ]
  },
  {
   "cell_type": "code",
   "execution_count": null,
   "metadata": {},
   "outputs": [],
   "source": []
  },
  {
   "cell_type": "markdown",
   "metadata": {},
   "source": [
    "`6.13`\n",
    "\n",
    "Suppose that a bond portfolio with a duration of 12 years is hedged using a futures contract in which the underlying asset has a duration of 4 years. \n",
    "\n",
    "What is likely to be the impact on the hedge of the fact that the 12-year rate is less volatile than the 4-year rate?"
   ]
  },
  {
   "cell_type": "code",
   "execution_count": null,
   "metadata": {},
   "outputs": [],
   "source": []
  },
  {
   "cell_type": "markdown",
   "metadata": {},
   "source": [
    "`6.14`\n",
    "\n",
    "Suppose that it is February 20 and a treasurer realizes that on July 17 the company will have to issue \\$5 million of commercial paper with a maturity of 180 days. If the paper \n",
    "were issued today, the company would realize \\$4,820,000. (In other words, the company would receive \\$4,820,000 for its paper and have to redeem it at \\$5,000,000 in 180 days’ \n",
    "time.) The September Eurodollar futures price is quoted as 92.00. \n",
    "\n",
    "How should the treasurer hedge the company’s exposure?"
   ]
  },
  {
   "cell_type": "code",
   "execution_count": null,
   "metadata": {},
   "outputs": [],
   "source": []
  },
  {
   "cell_type": "markdown",
   "metadata": {},
   "source": [
    "`6.15`\n",
    "\n",
    "On August 1, a portfolio manager has a bond portfolio worth \\$10 million. The duration of the portfolio in October will be 7.1 years. The December Treasury bond futures price is currently 91-12 and the cheapest-to-deliver bond will have a duration of 8.8 years at maturity. How should the portfolio manager immunize the portfolio against changes in interest rates over the next 2 months?"
   ]
  },
  {
   "cell_type": "code",
   "execution_count": null,
   "metadata": {},
   "outputs": [],
   "source": []
  },
  {
   "attachments": {},
   "cell_type": "markdown",
   "metadata": {},
   "source": [
    "`6.16`\n",
    "\n",
    "How can the portfolio manager change the duration of the portfolio to 3.0 years in Problem 6.15?"
   ]
  },
  {
   "cell_type": "code",
   "execution_count": null,
   "metadata": {},
   "outputs": [],
   "source": []
  },
  {
   "cell_type": "markdown",
   "metadata": {},
   "source": [
    "`6.17`\n",
    "\n",
    "Between October 30, 2022, and November 1, 2022, you have a choice between owning a U.S. government bond paying a 12% coupon and a U.S. corporate bond paying a 12% coupon. Consider carefully the day count conventions discussed in this chapter and decide which of the two bonds you would prefer to own. Ignore the risk of default."
   ]
  },
  {
   "cell_type": "code",
   "execution_count": null,
   "metadata": {},
   "outputs": [],
   "source": []
  },
  {
   "attachments": {},
   "cell_type": "markdown",
   "metadata": {},
   "source": [
    "`6.18`\n",
    "\n",
    "The 60-day SOFR rate has been estimated as 3%. The 3-month SOFR futures quote for the period between 60 and 150 days is 96.5. Estimate the 150-day SOFR rate."
   ]
  },
  {
   "cell_type": "code",
   "execution_count": null,
   "metadata": {},
   "outputs": [],
   "source": []
  },
  {
   "attachments": {},
   "cell_type": "markdown",
   "metadata": {},
   "source": [
    "`6.19`\n",
    "\n",
    "Explain why the forward interest rate is less than the corresponding futures interest rate calculated from a Eurodollar futures contract."
   ]
  },
  {
   "cell_type": "code",
   "execution_count": null,
   "metadata": {},
   "outputs": [],
   "source": []
  },
  {
   "cell_type": "markdown",
   "metadata": {},
   "source": [
    "`6.20`\n",
    "\n",
    "It is April 7, 2022. The quoted price of a U.S. government bond with a 6% per annum coupon (paid semiannually) is 120-00. The bond matures on July 27, 2033. What is the cash price? How does your answer change if it is a corporate bond?"
   ]
  },
  {
   "cell_type": "code",
   "execution_count": null,
   "metadata": {},
   "outputs": [],
   "source": []
  },
  {
   "cell_type": "markdown",
   "metadata": {},
   "source": [
    "`6.21`\n",
    "\n",
    "It is March 10, 2022. The cheapest-to-deliver bond in a December 2022 Treasury bond futures contract is an 8% coupon bond, and delivery is expected to be made on December 31, 2022. Coupon payments on the bond are made on March 1 and September 1 each year. The rate of interest with continuous compounding is 5% per annum for all maturities. The conversion factor for the bond is 1.2191. The current quoted bond price is \\$137. Calculate the quoted futures price for the contract."
   ]
  },
  {
   "cell_type": "code",
   "execution_count": null,
   "metadata": {},
   "outputs": [],
   "source": []
  },
  {
   "cell_type": "markdown",
   "metadata": {},
   "source": [
    "`6.22`\n",
    "\n",
    "Assume that a bank can borrow or lend money at the same interest rate in the LIBOR market. The 90-day rate is 2% per annum, and the 180-day rate is 2.2% per annum, both expressed with continuous compounding and actual/actual day count. The Eurodollar futures price for a contract maturing in 91 days is quoted as 97.95. What arbitrage opportunities are open to the bank?"
   ]
  },
  {
   "cell_type": "code",
   "execution_count": null,
   "metadata": {},
   "outputs": [],
   "source": []
  },
  {
   "cell_type": "markdown",
   "metadata": {},
   "source": [
    "`6.23`\n",
    "\n",
    "A Canadian company wishes to create a Canadian LIBOR futures contract from a U.S. Eurodollar futures contract and forward contracts on foreign exchange. Using an example, explain how the company should proceed. For the purposes of this problem, assume that a futures contract is the same as a forward contract."
   ]
  },
  {
   "cell_type": "code",
   "execution_count": null,
   "metadata": {},
   "outputs": [],
   "source": []
  },
  {
   "attachments": {},
   "cell_type": "markdown",
   "metadata": {},
   "source": [
    "`6.24`\n",
    "\n",
    "A portfolio manager plans to use a Treasury bond futures contract to hedge a bond portfolio over the next 3 months. The portfolio is worth `$`100 million and will have a duration of 4.0 years in 3 months. The futures price is 122, and each futures contract is on `$`100,000 of bonds. The bond that is expected to be cheapest to deliver will have a duration of 9.0 years at the maturity of the futures contract. What position in futures contracts is required?\n",
    "\n",
    "(a) What adjustments to the hedge are necessary if after 1 month the bond that is \n",
    "expected to be cheapest to deliver changes to one with a duration of 7 years?\n",
    "\n",
    "(b) Suppose that all rates increase over the next 3 months, but long-term rates increase \n",
    "less than short-term and medium-term rates. What is the effect of this on the \n",
    "performance of the hedge?"
   ]
  },
  {
   "cell_type": "code",
   "execution_count": null,
   "metadata": {},
   "outputs": [],
   "source": []
  }
 ],
 "metadata": {
  "kernelspec": {
   "display_name": "Python 3 (ipykernel)",
   "language": "python",
   "name": "python3"
  },
  "language_info": {
   "codemirror_mode": {
    "name": "ipython",
    "version": 3
   },
   "file_extension": ".py",
   "mimetype": "text/x-python",
   "name": "python",
   "nbconvert_exporter": "python",
   "pygments_lexer": "ipython3",
   "version": "3.9.13"
  },
  "vscode": {
   "interpreter": {
    "hash": "0dcd1d2511816899a74ba735f0586ad2a5252297c95097d38969d839b5b7443a"
   }
  }
 },
 "nbformat": 4,
 "nbformat_minor": 2
}
