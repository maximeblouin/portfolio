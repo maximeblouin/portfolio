{
 "cells": [
  {
   "attachments": {},
   "cell_type": "markdown",
   "metadata": {},
   "source": [
    "# Stock Data"
   ]
  },
  {
   "cell_type": "code",
   "execution_count": 1,
   "metadata": {
    "ExecuteTime": {
     "end_time": "2023-06-29T21:18:19.669497100Z",
     "start_time": "2023-06-29T21:18:19.622524Z"
    },
    "collapsed": false,
    "pycharm": {
     "name": "#%%\n"
    }
   },
   "outputs": [],
   "source": [
    "import pandas as pd\n",
    "\n",
    "import os\n",
    "import sys\n",
    "\n",
    "module_path = os.path.abspath(os.path.join('..\\..'))\n",
    "if module_path not in sys.path:\n",
    "    sys.path.append(module_path)\n",
    "\n",
    "import src_py._helpers.testing as tests\n",
    "import src_py._helpers.data as data"
   ]
  },
  {
   "attachments": {},
   "cell_type": "markdown",
   "metadata": {
    "collapsed": false,
    "pycharm": {
     "name": "#%% md\n"
    }
   },
   "source": [
    "## Import Data"
   ]
  },
  {
   "cell_type": "code",
   "execution_count": 2,
   "metadata": {
    "ExecuteTime": {
     "end_time": "2023-06-29T21:18:19.754450700Z",
     "start_time": "2023-06-29T21:18:19.683491900Z"
    },
    "collapsed": false,
    "pycharm": {
     "name": "#%%\n"
    }
   },
   "outputs": [],
   "source": [
    "stock_prices = data.load_stock_prices()"
   ]
  },
  {
   "attachments": {},
   "cell_type": "markdown",
   "metadata": {},
   "source": [
    "## DataFrame Calculations\n",
    "Find out the mean value for each stock using the `DataFrame.mean` function."
   ]
  },
  {
   "attachments": {},
   "cell_type": "markdown",
   "metadata": {},
   "source": [
    "### 1. Using the `DataFrame.groupby` function to get mean for each stock."
   ]
  },
  {
   "cell_type": "code",
   "execution_count": 3,
   "metadata": {
    "ExecuteTime": {
     "end_time": "2023-06-29T21:18:19.756447700Z",
     "start_time": "2023-06-29T21:18:19.714473500Z"
    }
   },
   "outputs": [
    {
     "name": "stdout",
     "output_type": "stream",
     "text": [
      "              open        high         low       close        volume  \\\n",
      "ticker                                                                 \n",
      "ABC     161.728571  162.507143  159.634286  160.677143  3.530850e+07   \n",
      "EFG     155.667143  156.085714  154.388571  155.704286  1.405524e+06   \n",
      "XYZ      61.045714   61.487143   59.600000   60.467143  4.145251e+06   \n",
      "\n",
      "         adj_close    adj_volume  \n",
      "ticker                            \n",
      "ABC     160.758571  3.530440e+07  \n",
      "EFG     155.532857  1.404302e+06  \n",
      "XYZ      60.394286  4.149307e+06  \n",
      "\u001b[92mAssert okay\u001b[0m\n",
      "\u001b[92mAssert okay\u001b[0m\n",
      "\u001b[92mAssert okay\u001b[0m\n"
     ]
    }
   ],
   "source": [
    "price_df_mean = stock_prices.groupby('ticker').mean(numeric_only = True)\n",
    "\n",
    "print(price_df_mean)\n",
    "\n",
    "tests.assert_equals(round(price_df_mean['open']['ABC'], 4), 161.7286)\n",
    "tests.assert_equals(round(price_df_mean['high']['EFG'], 4), 156.0857)\n",
    "tests.assert_equals(round(price_df_mean['volume']['XYZ'], 0), 4145251.0)"
   ]
  },
  {
   "attachments": {},
   "cell_type": "markdown",
   "metadata": {},
   "source": [
    "### 2. Using the `DataFrame.pivot` function to get mean for each stock."
   ]
  },
  {
   "cell_type": "code",
   "execution_count": 4,
   "metadata": {
    "ExecuteTime": {
     "end_time": "2023-06-29T21:18:19.843399500Z",
     "start_time": "2023-06-29T21:18:19.750452600Z"
    }
   },
   "outputs": [
    {
     "name": "stdout",
     "output_type": "stream",
     "text": [
      "ticker\n",
      "ABC    160.677143\n",
      "EFG    155.704286\n",
      "XYZ     60.467143\n",
      "dtype: float64\n",
      "\u001b[92mAssert okay\u001b[0m\n",
      "\u001b[92mAssert okay\u001b[0m\n",
      "\u001b[92mAssert okay\u001b[0m\n"
     ]
    }
   ],
   "source": [
    "\n",
    "prices_close_mean = stock_prices.pivot(index='date', columns='ticker', values='close').mean()\n",
    "print(prices_close_mean)\n",
    "\n",
    "tests.assert_equals(round(prices_close_mean['ABC'], 4), 160.6771)\n",
    "tests.assert_equals(round(prices_close_mean['EFG'], 4), 155.7043)\n",
    "tests.assert_equals(round(prices_close_mean['XYZ'], 4), 60.4671)\n"
   ]
  }
 ],
 "metadata": {
  "kernelspec": {
   "display_name": "Python 3",
   "language": "python",
   "name": "python3"
  },
  "language_info": {
   "codemirror_mode": {
    "name": "ipython",
    "version": 3
   },
   "file_extension": ".py",
   "mimetype": "text/x-python",
   "name": "python",
   "nbconvert_exporter": "python",
   "pygments_lexer": "ipython3",
   "version": "3.10.9"
  }
 },
 "nbformat": 4,
 "nbformat_minor": 2
}
