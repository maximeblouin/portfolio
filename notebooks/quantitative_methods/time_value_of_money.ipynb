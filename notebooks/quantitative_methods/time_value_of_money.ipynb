{
 "cells": [
  {
   "cell_type": "code",
   "execution_count": 6,
   "metadata": {
    "ExecuteTime": {
     "end_time": "2023-06-29T17:21:04.746257600Z",
     "start_time": "2023-06-29T17:21:04.591346Z"
    }
   },
   "outputs": [],
   "source": [
    "import os\n",
    "import sys\n",
    "\n",
    "module_path = os.path.abspath(os.path.join('..'))\n",
    "if module_path not in sys.path:\n",
    "    sys.path.append(module_path)\n",
    "\n",
    "import src_py.quantitative_methods.time_value_of_money as tvm"
   ]
  },
  {
   "attachments": {},
   "cell_type": "markdown",
   "metadata": {},
   "source": [
    "A credit card charges interest at an APR of 15.24%, compounded daily. A bank pays 0.2% monthly on the average amount on deposit over the month. A loan is made with a 6.0% annual rate, compounded quarterly. The following table shows what the expected annual rate is for each of these situations. The rate is higher than the APR because of compounding.\n",
    "\n",
    "_Source: CFA Institute Investment Foundations - Chapter 8 - Example 1_"
   ]
  },
  {
   "cell_type": "code",
   "execution_count": 7,
   "metadata": {
    "ExecuteTime": {
     "end_time": "2023-06-29T17:21:04.757251200Z",
     "start_time": "2023-06-29T17:21:04.620329300Z"
    }
   },
   "outputs": [
    {
     "name": "stdout",
     "output_type": "stream",
     "text": [
      "Credit card EAR= 16.46%\n",
      "Bank deposit EAR= 2.43%\n",
      "Loan EAR= 6.14%\n"
     ]
    }
   ],
   "source": [
    "print(\"Credit card EAR= {0:.2%}\".format(tvm.calculate_expected_annual_rate(apr=0.1524, compounding_periods_per_year=365)))\n",
    "\n",
    "print(\"Bank deposit EAR= {0:.2%}\".format(tvm.calculate_expected_annual_rate(apr=0.002 * 12, compounding_periods_per_year=12)))\n",
    "\n",
    "print(\"Loan EAR= {0:.2%}\".format(tvm.calculate_expected_annual_rate(apr=0.06, compounding_periods_per_year=4)))"
   ]
  },
  {
   "attachments": {},
   "cell_type": "markdown",
   "metadata": {
    "collapsed": false
   },
   "source": [
    "Part 1\n",
    "You are choosing between two investments of equal risk. You believe that given the risk, the appropriate discount rate to use is 9%. Your initial investment (outflow) for each is £500. One investment is expected to pay out £1,000 three years from now; the other investment is expected to pay out £1,350 five years from now. To choose between the two investments, you must compare the value of each investment at the same point in time.\n",
    "\n",
    "Part 2\n",
    "You are choosing between the same two investments, but you have reassessed their risks. You now consider the five-year investment to be more risky than the first and estimate that a 15% return is required to justify making this investment.\n",
    "\n",
    "_Source: CFA Institute Investment Foundations - Chapter 8 - Example 2_"
   ]
  },
  {
   "cell_type": "code",
   "execution_count": 8,
   "metadata": {
    "ExecuteTime": {
     "end_time": "2023-06-29T17:21:04.760248600Z",
     "start_time": "2023-06-29T17:21:04.686291900Z"
    },
    "collapsed": false
   },
   "outputs": [
    {
     "name": "stdout",
     "output_type": "stream",
     "text": [
      "Investment 2 is more valuable.\n"
     ]
    }
   ],
   "source": [
    "investment1_future_payout = 1000\n",
    "investment1_years = 3\n",
    "investment2_future_payout = 1350\n",
    "investment2_years = 5\n",
    "discount_rate = 0.09\n",
    "\n",
    "investment1_present_value = tvm.calculate_present_value(investment1_future_payout, investment1_years, discount_rate)\n",
    "investment2_present_value = tvm.calculate_present_value(investment2_future_payout, investment2_years, discount_rate)\n",
    "\n",
    "if investment1_present_value > investment2_present_value:\n",
    "    print(\"Investment 1 is more valuable.\")\n",
    "elif investment1_present_value < investment2_present_value:\n",
    "    print(\"Investment 2 is more valuable.\")\n",
    "else:\n",
    "    print(\"Both investments have the same value.\")"
   ]
  },
  {
   "cell_type": "code",
   "execution_count": 9,
   "metadata": {
    "ExecuteTime": {
     "end_time": "2023-06-29T17:21:04.765247800Z",
     "start_time": "2023-06-29T17:21:04.698285700Z"
    },
    "collapsed": false
   },
   "outputs": [
    {
     "name": "stdout",
     "output_type": "stream",
     "text": [
      "Investment 1 is more valuable.\n"
     ]
    }
   ],
   "source": [
    "investment1_future_payout = 1000\n",
    "investment1_years = 3\n",
    "investment2_future_payout = 1350\n",
    "investment2_years = 5\n",
    "discount_rate1 = 0.09\n",
    "discount_rate2 = 0.15\n",
    "\n",
    "investment1_present_value = tvm.calculate_present_value(investment1_future_payout, investment1_years, discount_rate1)\n",
    "investment2_present_value = tvm.calculate_present_value(investment2_future_payout, investment2_years, discount_rate2)\n",
    "\n",
    "if investment1_present_value > investment2_present_value:\n",
    "    print(\"Investment 1 is more valuable.\")\n",
    "elif investment1_present_value < investment2_present_value:\n",
    "    print(\"Investment 2 is more valuable.\")\n",
    "else:\n",
    "    print(\"Both investments have the same value.\")\n"
   ]
  }
 ],
 "metadata": {
  "kernelspec": {
   "display_name": "Python 3",
   "language": "python",
   "name": "python3"
  },
  "language_info": {
   "name": "python",
   "version": "3.11.4"
  },
  "orig_nbformat": 4
 },
 "nbformat": 4,
 "nbformat_minor": 2
}
