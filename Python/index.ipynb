{
 "cells": [
  {
   "attachments": {},
   "cell_type": "markdown",
   "metadata": {},
   "source": [
    "Index X as a return of 60 base point. Stock A as a return of 60 point. Stock B as a return of 60 point. Stock C as a return of 60 point. What is the weight I should invest in each stock to replicate the return of the Index?"
   ]
  },
  {
   "cell_type": "code",
   "execution_count": 5,
   "metadata": {},
   "outputs": [
    {
     "name": "stdout",
     "output_type": "stream",
     "text": [
      "Weights: [0. 0. 0.]\n"
     ]
    }
   ],
   "source": [
    "import numpy as np\n",
    "import pandas as pd\n",
    "from sklearn.linear_model import LinearRegression\n",
    "\n",
    "# Create a sample dataset\n",
    "data = pd.DataFrame({\n",
    "    'Index_Return': [0.60, 0.60, 0.60, 0.60, 0.60],\n",
    "    'StockA_Return': [0.60, 0.60, 0.60, 0.60, 0.60],\n",
    "    'StockB_Return': [0.60, 0.60, 0.60, 0.60, 0.60],\n",
    "    'StockC_Return': [0.60, 0.60, 0.60, 0.60, 0.60]\n",
    "})\n",
    "\n",
    "# Split the data into X (independent variables) and y (dependent variable)\n",
    "X = data[['StockA_Return', 'StockB_Return', 'StockC_Return']]\n",
    "y = data['Index_Return']\n",
    "\n",
    "# Fit linear regression model\n",
    "regression_model = LinearRegression()\n",
    "regression_model.fit(X, y)\n",
    "\n",
    "# Retrieve the coefficients (weights)\n",
    "weights = regression_model.coef_\n",
    "print('Weights:', weights)"
   ]
  },
  {
   "cell_type": "code",
   "execution_count": null,
   "metadata": {},
   "outputs": [],
   "source": [
    "import numpy as np\n",
    "import pandas as pd\n",
    "from sklearn.linear_model import LinearRegression\n",
    "\n",
    "# Create a sample dataset\n",
    "data = pd.DataFrame({\n",
    "    'Index_Return': [0.60, 0.65, 0.70, 0.75, 0.80],\n",
    "    'StockA_Return': [0.60, 0.62, 0.65, 0.68, 0.70],\n",
    "    'StockB_Return': [0.60, 0.63, 0.67, 0.70, 0.73],\n",
    "    'StockC_Return': [0.60, 0.61, 0.63, 0.66, 0.70]\n",
    "})\n",
    "\n",
    "# Split the data into X (independent variables) and y (dependent variable)\n",
    "X = data[['StockA_Return', 'StockB_Return', 'StockC_Return']]\n",
    "y = data['Index_Return']\n",
    "\n",
    "# Fit linear regression model\n",
    "regression_model = LinearRegression()\n",
    "regression_model.fit(X, y)\n",
    "\n",
    "# Retrieve the coefficients (weights)\n",
    "weights = regression_model.coef_\n",
    "print('Weights:', weights)\n"
   ]
  },
  {
   "cell_type": "code",
   "execution_count": null,
   "metadata": {},
   "outputs": [
    {
     "name": "stdout",
     "output_type": "stream",
     "text": [
      "Coefficients: [2.]\n",
      "Intercept: [1.]\n"
     ]
    }
   ],
   "source": [
    "import numpy as np\n",
    "from sklearn.linear_model import LinearRegression\n",
    "\n",
    "# Sample data\n",
    "x = np.array([1, 2, 3, 4, 5])  # Independent variable\n",
    "y = np.array([3, 5, 7, 9, 11])  # Dependent variable\n",
    "\n",
    "# Reshape the input arrays if needed\n",
    "x = x.reshape(-1, 1)\n",
    "y = y.reshape(-1, 1)\n",
    "\n",
    "# Create a linear regression model\n",
    "model = LinearRegression()\n",
    "\n",
    "# Fit the model to the data\n",
    "model.fit(x, y)\n",
    "\n",
    "# Get the coefficients and intercept\n",
    "coefficients = model.coef_[0]\n",
    "intercept = model.intercept_\n",
    "\n",
    "print(\"Coefficients:\", coefficients)\n",
    "print(\"Intercept:\", intercept)"
   ]
  },
  {
   "cell_type": "code",
   "execution_count": null,
   "metadata": {},
   "outputs": [
    {
     "name": "stdout",
     "output_type": "stream",
     "text": [
      "[0.3333, 0.3278, 0.3389]\n"
     ]
    }
   ],
   "source": [
    "def calculate_weights(index_return, stock_returns):\n",
    "    total_returns = sum(stock_returns)\n",
    "    weights = [round(return_value / total_returns, 4) for return_value in stock_returns]\n",
    "    return weights\n",
    "\n",
    "index_return = 0.0060\n",
    "stock_returns = [0.0060, 0.0059, 0.0061]\n",
    "\n",
    "weights = calculate_weights(index_return, stock_returns)\n",
    "print(weights)"
   ]
  }
 ],
 "metadata": {
  "kernelspec": {
   "display_name": "base",
   "language": "python",
   "name": "python3"
  },
  "language_info": {
   "codemirror_mode": {
    "name": "ipython",
    "version": 3
   },
   "file_extension": ".py",
   "mimetype": "text/x-python",
   "name": "python",
   "nbconvert_exporter": "python",
   "pygments_lexer": "ipython3",
   "version": "3.10.9"
  },
  "orig_nbformat": 4
 },
 "nbformat": 4,
 "nbformat_minor": 2
}
