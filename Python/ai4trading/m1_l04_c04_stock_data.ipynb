{
 "cells": [
  {
   "attachments": {},
   "cell_type": "markdown",
   "metadata": {},
   "source": [
    "# Stock Data"
   ]
  },
  {
   "attachments": {},
   "cell_type": "markdown",
   "metadata": {
    "collapsed": false
   },
   "source": [
    "## Packages"
   ]
  },
  {
   "cell_type": "code",
   "execution_count": 1,
   "metadata": {
    "collapsed": false,
    "pycharm": {
     "name": "#%%\n"
    }
   },
   "outputs": [],
   "source": [
    "import os\n",
    "import pandas as pd\n",
    "import sys\n",
    "\n",
    "sys.path.append(os.path.join(os.path.dirname(os.getcwd())))\n",
    "\n",
    "import package.helpers as helpers"
   ]
  },
  {
   "attachments": {},
   "cell_type": "markdown",
   "metadata": {},
   "source": [
    "## Functions"
   ]
  },
  {
   "cell_type": "code",
   "execution_count": 2,
   "metadata": {},
   "outputs": [],
   "source": [
    "def load_stock_prices():\n",
    "    \"\"\"\n",
    "    It reads in data from a csv file and produces a DataFrame with close data.\n",
    "    \n",
    "    column names:\n",
    "        ticker\n",
    "        date\n",
    "        open\n",
    "        high\n",
    "        low\n",
    "        close\n",
    "        volume\n",
    "        adj_close\n",
    "        adj_volume\n",
    "    \"\"\"\n",
    "    prices = pd.read_csv(filepath_or_buffer = '../../data/stock_prices.csv',\n",
    "                         names = ['ticker', 'date', 'open', 'high', 'low',\n",
    "                                  'close', 'volume', 'adj_close', 'adj_volume'])\n",
    "    return prices"
   ]
  },
  {
   "attachments": {},
   "cell_type": "markdown",
   "metadata": {
    "collapsed": false,
    "pycharm": {
     "name": "#%% md\n"
    }
   },
   "source": [
    "## Import Data"
   ]
  },
  {
   "cell_type": "code",
   "execution_count": 3,
   "metadata": {
    "collapsed": false,
    "pycharm": {
     "name": "#%%\n"
    }
   },
   "outputs": [],
   "source": [
    "stock_prices = load_stock_prices()"
   ]
  },
  {
   "attachments": {},
   "cell_type": "markdown",
   "metadata": {},
   "source": [
    "## DataFrame Calculations\n",
    "Find out the mean value for each stock using the `DataFrame.mean` function."
   ]
  },
  {
   "attachments": {},
   "cell_type": "markdown",
   "metadata": {},
   "source": [
    "### 1. Using the `DataFrame.groupby` function to get mean for each stock."
   ]
  },
  {
   "cell_type": "code",
   "execution_count": 4,
   "metadata": {},
   "outputs": [
    {
     "name": "stdout",
     "output_type": "stream",
     "text": [
      "              open        high         low       close        volume  \\\n",
      "ticker                                                                 \n",
      "ABC     161.728571  162.507143  159.634286  160.677143  3.530850e+07   \n",
      "EFG     155.667143  156.085714  154.388571  155.704286  1.405524e+06   \n",
      "XYZ      61.045714   61.487143   59.600000   60.467143  4.145251e+06   \n",
      "\n",
      "         adj_close    adj_volume  \n",
      "ticker                            \n",
      "ABC     160.758571  3.530440e+07  \n",
      "EFG     155.532857  1.404302e+06  \n",
      "XYZ      60.394286  4.149307e+06  \n",
      "\u001b[92mAssert okay\u001b[0m\n",
      "\u001b[92mAssert okay\u001b[0m\n",
      "\u001b[92mAssert okay\u001b[0m\n"
     ]
    }
   ],
   "source": [
    "price_df_mean = stock_prices.groupby('ticker').mean(numeric_only = True)\n",
    "\n",
    "print(price_df_mean)\n",
    "\n",
    "helpers.assert_equals(round(price_df_mean['open']['ABC'], 4), 161.7286)\n",
    "helpers.assert_equals(round(price_df_mean['high']['EFG'], 4), 156.0857)\n",
    "helpers.assert_equals(round(price_df_mean['volume']['XYZ'], 0), 4145251.0)"
   ]
  },
  {
   "attachments": {},
   "cell_type": "markdown",
   "metadata": {},
   "source": [
    "### 2. Using the `DataFrame.pivot` function to get mean for each stock."
   ]
  },
  {
   "cell_type": "code",
   "execution_count": 5,
   "metadata": {},
   "outputs": [
    {
     "name": "stdout",
     "output_type": "stream",
     "text": [
      "ticker\n",
      "ABC    160.677143\n",
      "EFG    155.704286\n",
      "XYZ     60.467143\n",
      "dtype: float64\n",
      "\u001b[92mAssert okay\u001b[0m\n",
      "\u001b[92mAssert okay\u001b[0m\n",
      "\u001b[92mAssert okay\u001b[0m\n"
     ]
    }
   ],
   "source": [
    "\n",
    "prices_close_mean = stock_prices.pivot(index='date', columns='ticker', values='close').mean()\n",
    "print(prices_close_mean)\n",
    "\n",
    "helpers.assert_equals(round(prices_close_mean['ABC'], 4), 160.6771)\n",
    "helpers.assert_equals(round(prices_close_mean['EFG'], 4), 155.7043)\n",
    "helpers.assert_equals(round(prices_close_mean['XYZ'], 4), 60.4671)\n"
   ]
  }
 ],
 "metadata": {
  "kernelspec": {
   "display_name": "Python 3",
   "language": "python",
   "name": "python3"
  },
  "language_info": {
   "codemirror_mode": {
    "name": "ipython",
    "version": 3
   },
   "file_extension": ".py",
   "mimetype": "text/x-python",
   "name": "python",
   "nbconvert_exporter": "python",
   "pygments_lexer": "ipython3",
   "version": "3.10.9"
  }
 },
 "nbformat": 4,
 "nbformat_minor": 2
}
